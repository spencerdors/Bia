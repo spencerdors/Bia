{
 "cells": [
  {
   "cell_type": "markdown",
   "metadata": {
    "hideCode": false,
    "nbpresent": {
     "id": "b1f9ebc9-a3f4-416e-a016-59b054241879"
    }
   },
   "source": [
    "# Prelim paper summary proposal\n",
    "\n",
    "## General Idea\n",
    "\n",
    "Essentially, I want to examine the relationship between commodity prices and the bilateral behavior of commodity dependent states. When commodity prices rise or fall (which is exogenous in most cases), governments that are dependent on rents from those commodities are likely to change their behavior in the international system. It is possible that they will become more belligerent as a way to ward off potential competitors (both foreign and domestic) hoping to take advantage of weakness. It is also possible that they will become more cooperative as a way to gain strength through deepend partnerships while in a weakened position.\n",
    "\n",
    "## Background\n",
    "\n",
    "There has been a fair amount of research into the relationship between commodity prices and internal phenomenon but no quantitative analysis of external behavior shifts. Notable works include:\n",
    "\n",
    "[Bazzi and Blattman 2014](https://www.dropbox.com/s/bv3xxuyogaqcdbp/shocks_and_conflict_Blatmann.pdf?dl=0)\n",
    "- Authors found that commodity prices shocks had no impact on the onset of conflict but that it did affect the duration. As energy and mineral prices went up, conflicts lengths went down, suggesting to the authors that the state gained capacity to ends conflicts as revenues from those certain types of commodities increased. \n",
    "\n",
    "[Dube and Vargas 2013](https://www.dropbox.com/s/smdvyiqamzspfar/commodity_price_shock_Colombia_Dube.pdf?dl=0) \n",
    "- Authors look specifically at Colombia and find that negative price shocks increase violence in the regions of Colombia dependent on those commodities. \n",
    "\n",
    "    * The 68% fall in coffee prices over 1997 to 2003 resulted in 18% more guerrilla attacks, 31% more paramilitary attacks, 22% more clashes, and 14% more casualties in the average coffee municipality, relative to non-coffee areas.\n",
    "    \n",
    "    * The 137% increase in oil prices over 1998 to 2005 led paramilitary attacks to increase by an additional 14% in the average oil producing municipality."
   ]
  },
  {
   "cell_type": "markdown",
   "metadata": {
    "nbpresent": {
     "id": "e4f17db9-72e0-478a-ba52-345433b6de88"
    }
   },
   "source": [
    "## Data\n",
    "\n",
    "### IV\n",
    "My primary independent variables will be monthly commodity spot prices as reported by Quandl. The econ/poli sci literature that I've seen argues consistently for the idea that commodity-dependent states primarily rely on rents from energy and precious metal extraction as agricultural commodities are much harder to control. As such, while agricultural commodities may be critical to many state revenues I've decided to focus on energy and precious metals for now (but I have the data on agriculture).\n",
    "\n",
    "I do have a problem with how I plan on structuring my primary IV. I'm not sure if I should look at shocks (ex: 1/0 in previous month) or just prices. I'll probably try both and see what works better for the purposes of my prelim. As you can see in the data below, there's a healthy amount of variation over the time period I'm looking at and a few good shocks if I decide to go that route.\n",
    "\n",
    "Here's a look what some of the prices look like:\n",
    "\n",
    "<img src=\"viz_test.png\",width=300,height=300>"
   ]
  },
  {
   "cell_type": "markdown",
   "metadata": {},
   "source": [
    "So I have commodity prices 2000 -> 2015 and I have the estimated output from each country but the data is all yearly. There is also a bit of a selection problem. What countries do I include in my study? All countries with a certain percentage of their exports coming from the combined value of the commodities I am studying? If the group thinks it wouldn't hurt my project I will likely plan on just focusing on oil rents as those seem to be a particular trouble spot for many regimes. As such, here is the data on 20 countries (there are 34 but I was running out of colors) with at least one year of oil rents above 10% of GDP:"
   ]
  },
  {
   "cell_type": "markdown",
   "metadata": {},
   "source": [
    "In addition to the spot prices I will inlude measures for regime type, soverign wealth fund sizes, the dependent variable lagged, and incoming events (dependent will focus on outgoing events). "
   ]
  },
  {
   "cell_type": "markdown",
   "metadata": {
    "nbpresent": {
     "id": "3bd4e251-a918-4b35-8745-e9c6f0ea1c5c"
    }
   },
   "source": [
    "### DV\n",
    "\n",
    "For my dependent variable I will be relying on event data from ICEWS (with possible validation from OEDA's Pheonix dataset). While the ICEWS data is not without its problems, between 2000 and 2015 it contains the records of almost 9 million events (after a simple deduplification). This gives me an enormous amount of flexibility when it comes to running and testing models. Here is a sample row:"
   ]
  },
  {
   "cell_type": "markdown",
   "metadata": {},
   "source": [
    "|       | Event ID | Event Date | Source Name                  | Source Sectors      | Source Country | Event Text                      | CAMEO Code | Intensity | Target Name           | Target Sectors    | Target Country | Story ID | Sentence Number | Publisher               | City  | District | Province                   | Country | Latitude | Longitude |\n",
    "|-------|----------|------------|------------------------------|---------------------|----------------|---------------------------------|------------|-----------|-----------------------|-------------------|----------------|----------|-----------------|-------------------------|-------|----------|----------------------------|---------|----------|-----------|\n",
    "| 43582 | 11206372 | 2007-01-17 | Reserve Personnel (Pakistan) | Military,Government | Pakistan       | Use conventional military force | 190        | -10.0     | Border Security Force | Government,Police | India          | 9181946  | 1               | Indo-Asian News Service | Jammu |          | State of Jammu and Kashmir | India   | 32.7357  | 74.8691   |\n"
   ]
  },
  {
   "cell_type": "markdown",
   "metadata": {},
   "source": [
    "I will have event counts for each of these so I'll rely on out-of-sample testing with the negative binomial (maybe poisson but probably not).\n",
    "\n",
    "As per the advice given by the group, I will be running 4 separate models. \n",
    "\n",
    "1. Positive high intensity (doing positive things)\n",
    "2. Positive low intensity (saying positive things)\n",
    "3. Negative high intensity (doing negative things)\n",
    "4. Negative low intensity (saying positive things)\n",
    "\n",
    "As might be expected, countries do a whole lot more than they say so there are many more events in the low intensity categories for both positive and negative events. The high intensity negative events are rare enough that I might consider a zero-inflated model. "
   ]
  }
 ],
 "metadata": {
  "anaconda-cloud": {},
  "celltoolbar": "Hide code",
  "kernelspec": {
   "display_name": "Python [Root]",
   "language": "python",
   "name": "Python [Root]"
  },
  "language_info": {
   "codemirror_mode": {
    "name": "ipython",
    "version": 2
   },
   "file_extension": ".py",
   "mimetype": "text/x-python",
   "name": "python",
   "nbconvert_exporter": "python",
   "pygments_lexer": "ipython2",
   "version": "2.7.12"
  },
  "nbpresent": {
   "slides": {
    "3920bd06-7629-4749-93c2-8705724853a6": {
     "id": "3920bd06-7629-4749-93c2-8705724853a6",
     "prev": "64e49b6a-26ac-4079-9097-f01330b2aa41",
     "regions": {
      "0b1e20ca-203d-4897-a472-61d4f57c8ff8": {
       "attrs": {
        "height": 0.8,
        "width": 0.8,
        "x": 0.1,
        "y": 0.1
       },
       "content": {
        "cell": "e4f17db9-72e0-478a-ba52-345433b6de88",
        "part": "whole"
       },
       "id": "0b1e20ca-203d-4897-a472-61d4f57c8ff8"
      }
     }
    },
    "5564bc97-ec44-4bc6-9cee-872650e42907": {
     "id": "5564bc97-ec44-4bc6-9cee-872650e42907",
     "prev": "d872afe9-d73f-463a-8d68-0b05501fe796",
     "regions": {
      "41d08e31-1df0-44b0-853a-1c0828541cd7": {
       "attrs": {
        "height": 0.8,
        "width": 0.8,
        "x": 0.1,
        "y": 0.1
       },
       "content": {
        "cell": "0f3a5a79-4dbe-4283-a638-e229bec693b4",
        "part": "whole"
       },
       "id": "41d08e31-1df0-44b0-853a-1c0828541cd7"
      }
     }
    },
    "64e49b6a-26ac-4079-9097-f01330b2aa41": {
     "id": "64e49b6a-26ac-4079-9097-f01330b2aa41",
     "prev": "a50a7164-b278-43ef-8e14-a241bb85c2c3",
     "regions": {
      "4f823a6a-c3ac-4ec4-80e7-108e5df202fd": {
       "attrs": {
        "height": 0.8,
        "width": 0.8,
        "x": 0.1,
        "y": 0.1
       },
       "content": {
        "cell": "b1f9ebc9-a3f4-416e-a016-59b054241879",
        "part": "whole"
       },
       "id": "4f823a6a-c3ac-4ec4-80e7-108e5df202fd"
      }
     }
    },
    "9116fe22-0a50-4f90-9bb4-27457fef55d5": {
     "id": "9116fe22-0a50-4f90-9bb4-27457fef55d5",
     "prev": "5564bc97-ec44-4bc6-9cee-872650e42907",
     "regions": {
      "de488d1f-0a73-4aa2-9da2-d932d6472231": {
       "attrs": {
        "height": 0.8,
        "width": 0.8,
        "x": 0.1,
        "y": 0.1
       },
       "content": {
        "cell": "23854138-890f-45fd-ae05-522175907ab8",
        "part": "whole"
       },
       "id": "de488d1f-0a73-4aa2-9da2-d932d6472231"
      }
     }
    },
    "a50a7164-b278-43ef-8e14-a241bb85c2c3": {
     "id": "a50a7164-b278-43ef-8e14-a241bb85c2c3",
     "prev": null,
     "regions": {
      "c6e18ee9-7689-4c70-9556-703082c3d30f": {
       "attrs": {
        "height": 0.8,
        "width": 0.8,
        "x": 0.1,
        "y": 0.1
       },
       "content": {
        "cell": "76e14712-6b19-4f47-a908-0a7ebb258d75",
        "part": "whole"
       },
       "id": "c6e18ee9-7689-4c70-9556-703082c3d30f"
      }
     }
    },
    "d872afe9-d73f-463a-8d68-0b05501fe796": {
     "id": "d872afe9-d73f-463a-8d68-0b05501fe796",
     "prev": "3920bd06-7629-4749-93c2-8705724853a6",
     "regions": {
      "76efcd79-2492-4a13-8d8f-ba18213486cd": {
       "attrs": {
        "height": 0.8,
        "width": 0.8,
        "x": 0.1,
        "y": 0.1
       },
       "content": {
        "cell": "3bd4e251-a918-4b35-8745-e9c6f0ea1c5c",
        "part": "whole"
       },
       "id": "76efcd79-2492-4a13-8d8f-ba18213486cd"
      }
     }
    }
   },
   "themes": {}
  }
 },
 "nbformat": 4,
 "nbformat_minor": 0
}
