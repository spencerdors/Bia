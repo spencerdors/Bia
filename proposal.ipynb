{
 "cells": [
  {
   "cell_type": "markdown",
   "metadata": {},
   "source": [
    "# Prelim paper summary proposal\n",
    "\n",
    "## General Idea\n",
    "\n",
    "Essentially, I want to examine the relationship between commodity prices and the bilateral behavior of commodity dependent states. When commodity prices rise or fall (which is exogenous in most cases), governments that are dependent on rents from those commodities are likely to change their behavior in the international system. It is possible that they will become more belligerent as a way to ward off potential competitors (both foreign and domestic) hoping to take advantage of weakness. It is also possible that they will become more cooperative as a way to gain strength while in a weakend position.\n",
    "\n",
    "## Data"
   ]
  },
  {
   "cell_type": "markdown",
   "metadata": {},
   "source": [
    "### IV\n",
    "\n",
    "\n"
   ]
  },
  {
   "cell_type": "markdown",
   "metadata": {},
   "source": [
    "### DV\n",
    "\n",
    "I am still a little unsure about the scope of my primary DV. The easiest route would be to just focus on oil and oil-dependent states (states for whom oil rents account for 10% or more of GDP during the 15 year period under revew). If I were to take that route, the data would be easy to manage and would look something like this:"
   ]
  },
  {
   "cell_type": "code",
   "execution_count": 6,
   "metadata": {
    "nbsphinx": "hidden",
    "collapsed": false
   },
   "outputs": [],
   "source": [
    "import pandas as pd\n",
    "import numpy as np\n",
    "import os\n",
    "os.chdir('/Users/spencer/Dropbox/Bia')"
   ]
  },
  {
   "cell_type": "code",
   "execution_count": null,
   "metadata": {
    "collapsed": true
   },
   "outputs": [],
   "source": []
  }
 ],
 "metadata": {
  "anaconda-cloud": {},
  "kernelspec": {
   "display_name": "Python [Root]",
   "language": "python",
   "name": "Python [Root]"
  },
  "language_info": {
   "codemirror_mode": {
    "name": "ipython",
    "version": 2
   },
   "file_extension": ".py",
   "mimetype": "text/x-python",
   "name": "python",
   "nbconvert_exporter": "python",
   "pygments_lexer": "ipython2",
   "version": "2.7.12"
  }
 },
 "nbformat": 4,
 "nbformat_minor": 0
}
