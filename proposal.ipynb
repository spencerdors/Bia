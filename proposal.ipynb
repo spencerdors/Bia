{
 "cells": [
  {
   "cell_type": "markdown",
   "metadata": {
    "nbpresent": {
     "id": "b1f9ebc9-a3f4-416e-a016-59b054241879"
    }
   },
   "source": [
    "# Prelim paper summary proposal\n",
    "\n",
    "## General Idea\n",
    "\n",
    "Essentially, I want to examine the relationship between commodity prices and the bilateral behavior of commodity dependent states. When commodity prices rise or fall (which is exogenous in most cases), governments that are dependent on rents from those commodities are likely to change their behavior in the international system. It is possible that they will become more belligerent as a way to ward off potential competitors (both foreign and domestic) hoping to take advantage of weakness. It is also possible that they will become more cooperative as a way to gain strength while in a weakend position.\n",
    "\n",
    "## Data"
   ]
  },
  {
   "cell_type": "markdown",
   "metadata": {
    "nbpresent": {
     "id": "e4f17db9-72e0-478a-ba52-345433b6de88"
    }
   },
   "source": [
    "### IV\n",
    "\n",
    "\n"
   ]
  },
  {
   "cell_type": "markdown",
   "metadata": {
    "nbpresent": {
     "id": "3bd4e251-a918-4b35-8745-e9c6f0ea1c5c"
    }
   },
   "source": [
    "### DV\n",
    "\n",
    "I am still a little unsure about the scope of my primary DV. The easiest route would be to just focus on oil and oil-dependent states (states for whom oil rents account for 10% or more of GDP during the 15 year period under revew). If I were to take that route, the data would be easy to manage and would look something like this:"
   ]
  },
  {
   "cell_type": "code",
   "execution_count": 6,
   "metadata": {
    "collapsed": true,
    "nbsphinx": "hidden"
   },
   "outputs": [],
   "source": [
    "import pandas as pd\n",
    "import numpy as np\n",
    "import os\n",
    "os.chdir('/Users/spencer/Dropbox/Bia')"
   ]
  },
  {
   "cell_type": "code",
   "execution_count": null,
   "metadata": {
    "collapsed": false,
    "nbpresent": {
     "id": "23854138-890f-45fd-ae05-522175907ab8"
    }
   },
   "outputs": [],
   "source": []
  }
 ],
 "metadata": {
  "anaconda-cloud": {},
  "kernelspec": {
   "display_name": "Python [Root]",
   "language": "python",
   "name": "Python [Root]"
  },
  "language_info": {
   "codemirror_mode": {
    "name": "ipython",
    "version": 2
   },
   "file_extension": ".py",
   "mimetype": "text/x-python",
   "name": "python",
   "nbconvert_exporter": "python",
   "pygments_lexer": "ipython2",
   "version": "2.7.12"
  },
  "nbpresent": {
   "slides": {
    "3920bd06-7629-4749-93c2-8705724853a6": {
     "id": "3920bd06-7629-4749-93c2-8705724853a6",
     "prev": "64e49b6a-26ac-4079-9097-f01330b2aa41",
     "regions": {
      "0b1e20ca-203d-4897-a472-61d4f57c8ff8": {
       "attrs": {
        "height": 0.8,
        "width": 0.8,
        "x": 0.1,
        "y": 0.1
       },
       "content": {
        "cell": "e4f17db9-72e0-478a-ba52-345433b6de88",
        "part": "whole"
       },
       "id": "0b1e20ca-203d-4897-a472-61d4f57c8ff8"
      }
     }
    },
    "5564bc97-ec44-4bc6-9cee-872650e42907": {
     "id": "5564bc97-ec44-4bc6-9cee-872650e42907",
     "prev": "d872afe9-d73f-463a-8d68-0b05501fe796",
     "regions": {
      "41d08e31-1df0-44b0-853a-1c0828541cd7": {
       "attrs": {
        "height": 0.8,
        "width": 0.8,
        "x": 0.1,
        "y": 0.1
       },
       "content": {
        "cell": "0f3a5a79-4dbe-4283-a638-e229bec693b4",
        "part": "whole"
       },
       "id": "41d08e31-1df0-44b0-853a-1c0828541cd7"
      }
     }
    },
    "64e49b6a-26ac-4079-9097-f01330b2aa41": {
     "id": "64e49b6a-26ac-4079-9097-f01330b2aa41",
     "prev": "a50a7164-b278-43ef-8e14-a241bb85c2c3",
     "regions": {
      "4f823a6a-c3ac-4ec4-80e7-108e5df202fd": {
       "attrs": {
        "height": 0.8,
        "width": 0.8,
        "x": 0.1,
        "y": 0.1
       },
       "content": {
        "cell": "b1f9ebc9-a3f4-416e-a016-59b054241879",
        "part": "whole"
       },
       "id": "4f823a6a-c3ac-4ec4-80e7-108e5df202fd"
      }
     }
    },
    "9116fe22-0a50-4f90-9bb4-27457fef55d5": {
     "id": "9116fe22-0a50-4f90-9bb4-27457fef55d5",
     "prev": "5564bc97-ec44-4bc6-9cee-872650e42907",
     "regions": {
      "de488d1f-0a73-4aa2-9da2-d932d6472231": {
       "attrs": {
        "height": 0.8,
        "width": 0.8,
        "x": 0.1,
        "y": 0.1
       },
       "content": {
        "cell": "23854138-890f-45fd-ae05-522175907ab8",
        "part": "whole"
       },
       "id": "de488d1f-0a73-4aa2-9da2-d932d6472231"
      }
     }
    },
    "a50a7164-b278-43ef-8e14-a241bb85c2c3": {
     "id": "a50a7164-b278-43ef-8e14-a241bb85c2c3",
     "prev": null,
     "regions": {
      "c6e18ee9-7689-4c70-9556-703082c3d30f": {
       "attrs": {
        "height": 0.8,
        "width": 0.8,
        "x": 0.1,
        "y": 0.1
       },
       "content": {
        "cell": "76e14712-6b19-4f47-a908-0a7ebb258d75",
        "part": "whole"
       },
       "id": "c6e18ee9-7689-4c70-9556-703082c3d30f"
      }
     }
    },
    "d872afe9-d73f-463a-8d68-0b05501fe796": {
     "id": "d872afe9-d73f-463a-8d68-0b05501fe796",
     "prev": "3920bd06-7629-4749-93c2-8705724853a6",
     "regions": {
      "76efcd79-2492-4a13-8d8f-ba18213486cd": {
       "attrs": {
        "height": 0.8,
        "width": 0.8,
        "x": 0.1,
        "y": 0.1
       },
       "content": {
        "cell": "3bd4e251-a918-4b35-8745-e9c6f0ea1c5c",
        "part": "whole"
       },
       "id": "76efcd79-2492-4a13-8d8f-ba18213486cd"
      }
     }
    }
   },
   "themes": {}
  }
 },
 "nbformat": 4,
 "nbformat_minor": 0
}
