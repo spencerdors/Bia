{
 "cells": [
  {
   "cell_type": "markdown",
   "metadata": {},
   "source": [
    "# Progress on Commodity and Behavior Project"
   ]
  },
  {
   "cell_type": "markdown",
   "metadata": {},
   "source": [
    "## Theory Stuff\n",
    "When commodity prices crash, I expect states dependent on those commodities to become more aggressive in the international arena. I expect the state to expend any resources held in reserve to ward off challengers both foreign and domestic in order to \"ride out\" price shocks.  There is some really decent work on what states do to ward of domestic challengers but I am struggling to come up with something good for equivalent work in IR. I am going to draw from litature on:\n",
    "- audience costs\n",
    "- diversionary war"
   ]
  },
  {
   "cell_type": "markdown",
   "metadata": {},
   "source": [
    "## Data\n",
    "So I have the following data: \n",
    "\n",
    "1) Monthly spot prices and annual export totals by country for the following commodities:\n",
    "- oil\n",
    "- zinc \n",
    "- coal\n",
    "- natural gas\n",
    "- iron\n",
    "- copper\n",
    "- gold\n",
    "- tin\n",
    "- silver\n",
    "- aluminum\n",
    "- lead\n",
    "- nickel\n",
    "\n",
    "2) Daily event data from ICEWS and I have cleaned and turned into a pretty decent monthly count dataset. \n",
    "\n",
    "\n",
    "My biggest challenge with the data was coming up with a good way to quantify \"shocks\". My measure has to account for dependence throughout the basket of commodities and for temporal shifts. There are a fair number of competing formulas but I think I've settled on either a slightly modified version from Bazzi/Blattman or a cool measure from the IMF. They share the same basic first steps. You first find the weight each commodity has in each month where P is the international price of a given commodity and Q is the share of that commodity in a given state's portfolio.\n",
    "\n",
    "$$w_{i,j} = \\frac{P_j * Q_{i,j}}{\\sum_{j=1}^{n} P_j * Q_{i,j}}$$\n",
    "\n",
    "Then in order to get the monthly commodity price index we geometrically weight the price of each commodity by the weight of that commodity in a given country month.  \n",
    "\n",
    "$$PI_{i,t} = \\prod P_{j,t}^{w_{i,j}}$$\n",
    "\n",
    "Bazzi/Blattman then look at the annual delta of the logged $PI_{i,t}$ weighted by export-to-GDP ratio. This seems to work well for a matching problem I'll have to identify a cut-off somewhere in this continous measure to separate treatment from non-treatment country-months. \n",
    "\n",
    "Looking across several commodity-dependent states (including several dependent on different commodities) I have found that a score of 0.03 (scaled to 3 for visualizations) seems to make the most intuitive sense. Here's an example from Saudi Arabia. The \"treatment\" months are marked by the vertical lines.\n",
    "\n",
    "![alt text](sau.png \"Saudi Arabia\")\n",
    "\n",
    "And here's an example from Russia which is similarly dependent on crude but also has a significant natural gas xport regime:\n",
    "\n",
    "![alt text](rus.png \"Russia\")\n",
    "\n",
    "Another from Chile which relies on revenues from copper extraction:\n",
    "\n",
    "![alt text](chl.png \"Chile\")\n",
    "\n",
    "And as a test, the USA which is not dependent on commodity exports for revenue:\n",
    "\n",
    "![alt text](usa.png \"USA\")\n",
    "\n",
    "\n",
    "As you can see in the visualizations, the 0.03 cutoff does relatively well but seems to consistently id a few shocks where a human observer wouldn't find one (early in both Saudi Arabia and Chile). I can raise the threshold but then I lose some valuable months on the other end. Any creative ideas there? Should I just try a bunch and see what I like?\n",
    "\n"
   ]
  },
  {
   "cell_type": "markdown",
   "metadata": {},
   "source": []
  }
 ],
 "metadata": {
  "anaconda-cloud": {},
  "kernelspec": {
   "display_name": "Python [Root]",
   "language": "python",
   "name": "Python [Root]"
  },
  "language_info": {
   "codemirror_mode": {
    "name": "ipython",
    "version": 2
   },
   "file_extension": ".py",
   "mimetype": "text/x-python",
   "name": "python",
   "nbconvert_exporter": "python",
   "pygments_lexer": "ipython2",
   "version": "2.7.12"
  }
 },
 "nbformat": 4,
 "nbformat_minor": 0
}
